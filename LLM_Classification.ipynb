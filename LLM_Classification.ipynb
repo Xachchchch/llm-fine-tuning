{
  "nbformat": 4,
  "nbformat_minor": 0,
  "metadata": {
    "colab": {
      "provenance": [],
      "gpuType": "T4"
    },
    "kernelspec": {
      "name": "python3",
      "display_name": "Python 3"
    },
    "language_info": {
      "name": "python"
    },
    "accelerator": "GPU",
    "widgets": {
      "application/vnd.jupyter.widget-state+json": {
        "69d7974a1b374fc1a55ba9cb41c7f6d3": {
          "model_module": "@jupyter-widgets/controls",
          "model_name": "HBoxModel",
          "model_module_version": "1.5.0",
          "state": {
            "_dom_classes": [],
            "_model_module": "@jupyter-widgets/controls",
            "_model_module_version": "1.5.0",
            "_model_name": "HBoxModel",
            "_view_count": null,
            "_view_module": "@jupyter-widgets/controls",
            "_view_module_version": "1.5.0",
            "_view_name": "HBoxView",
            "box_style": "",
            "children": [
              "IPY_MODEL_05ba149e42b64f1dad7000d2f04a0f54",
              "IPY_MODEL_6b2d0d2f3a5e43e3b68db82779f960fe",
              "IPY_MODEL_57d749748231477b841497f11258dd92"
            ],
            "layout": "IPY_MODEL_4f089719feef4c53828d534ef6ee7191"
          }
        },
        "05ba149e42b64f1dad7000d2f04a0f54": {
          "model_module": "@jupyter-widgets/controls",
          "model_name": "HTMLModel",
          "model_module_version": "1.5.0",
          "state": {
            "_dom_classes": [],
            "_model_module": "@jupyter-widgets/controls",
            "_model_module_version": "1.5.0",
            "_model_name": "HTMLModel",
            "_view_count": null,
            "_view_module": "@jupyter-widgets/controls",
            "_view_module_version": "1.5.0",
            "_view_name": "HTMLView",
            "description": "",
            "description_tooltip": null,
            "layout": "IPY_MODEL_1e4e805805a246b9be33af20d9d9eb84",
            "placeholder": "​",
            "style": "IPY_MODEL_e42365f5944c4747a163f8541fce9a62",
            "value": "Generating train split: "
          }
        },
        "6b2d0d2f3a5e43e3b68db82779f960fe": {
          "model_module": "@jupyter-widgets/controls",
          "model_name": "FloatProgressModel",
          "model_module_version": "1.5.0",
          "state": {
            "_dom_classes": [],
            "_model_module": "@jupyter-widgets/controls",
            "_model_module_version": "1.5.0",
            "_model_name": "FloatProgressModel",
            "_view_count": null,
            "_view_module": "@jupyter-widgets/controls",
            "_view_module_version": "1.5.0",
            "_view_name": "ProgressView",
            "bar_style": "success",
            "description": "",
            "description_tooltip": null,
            "layout": "IPY_MODEL_a78caee3e5ab4bca8eb283ff9023a599",
            "max": 1,
            "min": 0,
            "orientation": "horizontal",
            "style": "IPY_MODEL_21ef8b2ba0db435b8ef93a9244cba908",
            "value": 1
          }
        },
        "57d749748231477b841497f11258dd92": {
          "model_module": "@jupyter-widgets/controls",
          "model_name": "HTMLModel",
          "model_module_version": "1.5.0",
          "state": {
            "_dom_classes": [],
            "_model_module": "@jupyter-widgets/controls",
            "_model_module_version": "1.5.0",
            "_model_name": "HTMLModel",
            "_view_count": null,
            "_view_module": "@jupyter-widgets/controls",
            "_view_module_version": "1.5.0",
            "_view_name": "HTMLView",
            "description": "",
            "description_tooltip": null,
            "layout": "IPY_MODEL_c87dcb3dc420444492fc3c6823047e87",
            "placeholder": "​",
            "style": "IPY_MODEL_c0ab2b8470354eab98338827dc923790",
            "value": " 3936/0 [00:00&lt;00:00, 16118.28 examples/s]"
          }
        },
        "4f089719feef4c53828d534ef6ee7191": {
          "model_module": "@jupyter-widgets/base",
          "model_name": "LayoutModel",
          "model_module_version": "1.2.0",
          "state": {
            "_model_module": "@jupyter-widgets/base",
            "_model_module_version": "1.2.0",
            "_model_name": "LayoutModel",
            "_view_count": null,
            "_view_module": "@jupyter-widgets/base",
            "_view_module_version": "1.2.0",
            "_view_name": "LayoutView",
            "align_content": null,
            "align_items": null,
            "align_self": null,
            "border": null,
            "bottom": null,
            "display": null,
            "flex": null,
            "flex_flow": null,
            "grid_area": null,
            "grid_auto_columns": null,
            "grid_auto_flow": null,
            "grid_auto_rows": null,
            "grid_column": null,
            "grid_gap": null,
            "grid_row": null,
            "grid_template_areas": null,
            "grid_template_columns": null,
            "grid_template_rows": null,
            "height": null,
            "justify_content": null,
            "justify_items": null,
            "left": null,
            "margin": null,
            "max_height": null,
            "max_width": null,
            "min_height": null,
            "min_width": null,
            "object_fit": null,
            "object_position": null,
            "order": null,
            "overflow": null,
            "overflow_x": null,
            "overflow_y": null,
            "padding": null,
            "right": null,
            "top": null,
            "visibility": null,
            "width": null
          }
        },
        "1e4e805805a246b9be33af20d9d9eb84": {
          "model_module": "@jupyter-widgets/base",
          "model_name": "LayoutModel",
          "model_module_version": "1.2.0",
          "state": {
            "_model_module": "@jupyter-widgets/base",
            "_model_module_version": "1.2.0",
            "_model_name": "LayoutModel",
            "_view_count": null,
            "_view_module": "@jupyter-widgets/base",
            "_view_module_version": "1.2.0",
            "_view_name": "LayoutView",
            "align_content": null,
            "align_items": null,
            "align_self": null,
            "border": null,
            "bottom": null,
            "display": null,
            "flex": null,
            "flex_flow": null,
            "grid_area": null,
            "grid_auto_columns": null,
            "grid_auto_flow": null,
            "grid_auto_rows": null,
            "grid_column": null,
            "grid_gap": null,
            "grid_row": null,
            "grid_template_areas": null,
            "grid_template_columns": null,
            "grid_template_rows": null,
            "height": null,
            "justify_content": null,
            "justify_items": null,
            "left": null,
            "margin": null,
            "max_height": null,
            "max_width": null,
            "min_height": null,
            "min_width": null,
            "object_fit": null,
            "object_position": null,
            "order": null,
            "overflow": null,
            "overflow_x": null,
            "overflow_y": null,
            "padding": null,
            "right": null,
            "top": null,
            "visibility": null,
            "width": null
          }
        },
        "e42365f5944c4747a163f8541fce9a62": {
          "model_module": "@jupyter-widgets/controls",
          "model_name": "DescriptionStyleModel",
          "model_module_version": "1.5.0",
          "state": {
            "_model_module": "@jupyter-widgets/controls",
            "_model_module_version": "1.5.0",
            "_model_name": "DescriptionStyleModel",
            "_view_count": null,
            "_view_module": "@jupyter-widgets/base",
            "_view_module_version": "1.2.0",
            "_view_name": "StyleView",
            "description_width": ""
          }
        },
        "a78caee3e5ab4bca8eb283ff9023a599": {
          "model_module": "@jupyter-widgets/base",
          "model_name": "LayoutModel",
          "model_module_version": "1.2.0",
          "state": {
            "_model_module": "@jupyter-widgets/base",
            "_model_module_version": "1.2.0",
            "_model_name": "LayoutModel",
            "_view_count": null,
            "_view_module": "@jupyter-widgets/base",
            "_view_module_version": "1.2.0",
            "_view_name": "LayoutView",
            "align_content": null,
            "align_items": null,
            "align_self": null,
            "border": null,
            "bottom": null,
            "display": null,
            "flex": null,
            "flex_flow": null,
            "grid_area": null,
            "grid_auto_columns": null,
            "grid_auto_flow": null,
            "grid_auto_rows": null,
            "grid_column": null,
            "grid_gap": null,
            "grid_row": null,
            "grid_template_areas": null,
            "grid_template_columns": null,
            "grid_template_rows": null,
            "height": null,
            "justify_content": null,
            "justify_items": null,
            "left": null,
            "margin": null,
            "max_height": null,
            "max_width": null,
            "min_height": null,
            "min_width": null,
            "object_fit": null,
            "object_position": null,
            "order": null,
            "overflow": null,
            "overflow_x": null,
            "overflow_y": null,
            "padding": null,
            "right": null,
            "top": null,
            "visibility": null,
            "width": "20px"
          }
        },
        "21ef8b2ba0db435b8ef93a9244cba908": {
          "model_module": "@jupyter-widgets/controls",
          "model_name": "ProgressStyleModel",
          "model_module_version": "1.5.0",
          "state": {
            "_model_module": "@jupyter-widgets/controls",
            "_model_module_version": "1.5.0",
            "_model_name": "ProgressStyleModel",
            "_view_count": null,
            "_view_module": "@jupyter-widgets/base",
            "_view_module_version": "1.2.0",
            "_view_name": "StyleView",
            "bar_color": null,
            "description_width": ""
          }
        },
        "c87dcb3dc420444492fc3c6823047e87": {
          "model_module": "@jupyter-widgets/base",
          "model_name": "LayoutModel",
          "model_module_version": "1.2.0",
          "state": {
            "_model_module": "@jupyter-widgets/base",
            "_model_module_version": "1.2.0",
            "_model_name": "LayoutModel",
            "_view_count": null,
            "_view_module": "@jupyter-widgets/base",
            "_view_module_version": "1.2.0",
            "_view_name": "LayoutView",
            "align_content": null,
            "align_items": null,
            "align_self": null,
            "border": null,
            "bottom": null,
            "display": null,
            "flex": null,
            "flex_flow": null,
            "grid_area": null,
            "grid_auto_columns": null,
            "grid_auto_flow": null,
            "grid_auto_rows": null,
            "grid_column": null,
            "grid_gap": null,
            "grid_row": null,
            "grid_template_areas": null,
            "grid_template_columns": null,
            "grid_template_rows": null,
            "height": null,
            "justify_content": null,
            "justify_items": null,
            "left": null,
            "margin": null,
            "max_height": null,
            "max_width": null,
            "min_height": null,
            "min_width": null,
            "object_fit": null,
            "object_position": null,
            "order": null,
            "overflow": null,
            "overflow_x": null,
            "overflow_y": null,
            "padding": null,
            "right": null,
            "top": null,
            "visibility": null,
            "width": null
          }
        },
        "c0ab2b8470354eab98338827dc923790": {
          "model_module": "@jupyter-widgets/controls",
          "model_name": "DescriptionStyleModel",
          "model_module_version": "1.5.0",
          "state": {
            "_model_module": "@jupyter-widgets/controls",
            "_model_module_version": "1.5.0",
            "_model_name": "DescriptionStyleModel",
            "_view_count": null,
            "_view_module": "@jupyter-widgets/base",
            "_view_module_version": "1.2.0",
            "_view_name": "StyleView",
            "description_width": ""
          }
        },
        "1ce77348cdf5447d92aa85506c56a0c8": {
          "model_module": "@jupyter-widgets/controls",
          "model_name": "HBoxModel",
          "model_module_version": "1.5.0",
          "state": {
            "_dom_classes": [],
            "_model_module": "@jupyter-widgets/controls",
            "_model_module_version": "1.5.0",
            "_model_name": "HBoxModel",
            "_view_count": null,
            "_view_module": "@jupyter-widgets/controls",
            "_view_module_version": "1.5.0",
            "_view_name": "HBoxView",
            "box_style": "",
            "children": [
              "IPY_MODEL_d80aebfc3dbf46ffaf56255243ee8b7f",
              "IPY_MODEL_7e4fa4f233d9476d8b70f790fccba35b",
              "IPY_MODEL_199195cc47aa40c985c164bde0098296"
            ],
            "layout": "IPY_MODEL_d80ffb3395794f59a959c15cf6a8f97f"
          }
        },
        "d80aebfc3dbf46ffaf56255243ee8b7f": {
          "model_module": "@jupyter-widgets/controls",
          "model_name": "HTMLModel",
          "model_module_version": "1.5.0",
          "state": {
            "_dom_classes": [],
            "_model_module": "@jupyter-widgets/controls",
            "_model_module_version": "1.5.0",
            "_model_name": "HTMLModel",
            "_view_count": null,
            "_view_module": "@jupyter-widgets/controls",
            "_view_module_version": "1.5.0",
            "_view_name": "HTMLView",
            "description": "",
            "description_tooltip": null,
            "layout": "IPY_MODEL_fe5f9690f4fe4b1a8b61329e40796344",
            "placeholder": "​",
            "style": "IPY_MODEL_f596f5a62eb947549d1d8db3e7997bd7",
            "value": "Generating test split: "
          }
        },
        "7e4fa4f233d9476d8b70f790fccba35b": {
          "model_module": "@jupyter-widgets/controls",
          "model_name": "FloatProgressModel",
          "model_module_version": "1.5.0",
          "state": {
            "_dom_classes": [],
            "_model_module": "@jupyter-widgets/controls",
            "_model_module_version": "1.5.0",
            "_model_name": "FloatProgressModel",
            "_view_count": null,
            "_view_module": "@jupyter-widgets/controls",
            "_view_module_version": "1.5.0",
            "_view_name": "ProgressView",
            "bar_style": "success",
            "description": "",
            "description_tooltip": null,
            "layout": "IPY_MODEL_cf80a4e0360141c0b56386a63c0f9765",
            "max": 1,
            "min": 0,
            "orientation": "horizontal",
            "style": "IPY_MODEL_12864a2c792944c38e460b7f51423718",
            "value": 1
          }
        },
        "199195cc47aa40c985c164bde0098296": {
          "model_module": "@jupyter-widgets/controls",
          "model_name": "HTMLModel",
          "model_module_version": "1.5.0",
          "state": {
            "_dom_classes": [],
            "_model_module": "@jupyter-widgets/controls",
            "_model_module_version": "1.5.0",
            "_model_name": "HTMLModel",
            "_view_count": null,
            "_view_module": "@jupyter-widgets/controls",
            "_view_module_version": "1.5.0",
            "_view_name": "HTMLView",
            "description": "",
            "description_tooltip": null,
            "layout": "IPY_MODEL_8a016cfa5da74febb4685da97fde42c5",
            "placeholder": "​",
            "style": "IPY_MODEL_27a92c9b27f247c185bff70379d5c018",
            "value": " 984/0 [00:00&lt;00:00, 11127.90 examples/s]"
          }
        },
        "d80ffb3395794f59a959c15cf6a8f97f": {
          "model_module": "@jupyter-widgets/base",
          "model_name": "LayoutModel",
          "model_module_version": "1.2.0",
          "state": {
            "_model_module": "@jupyter-widgets/base",
            "_model_module_version": "1.2.0",
            "_model_name": "LayoutModel",
            "_view_count": null,
            "_view_module": "@jupyter-widgets/base",
            "_view_module_version": "1.2.0",
            "_view_name": "LayoutView",
            "align_content": null,
            "align_items": null,
            "align_self": null,
            "border": null,
            "bottom": null,
            "display": null,
            "flex": null,
            "flex_flow": null,
            "grid_area": null,
            "grid_auto_columns": null,
            "grid_auto_flow": null,
            "grid_auto_rows": null,
            "grid_column": null,
            "grid_gap": null,
            "grid_row": null,
            "grid_template_areas": null,
            "grid_template_columns": null,
            "grid_template_rows": null,
            "height": null,
            "justify_content": null,
            "justify_items": null,
            "left": null,
            "margin": null,
            "max_height": null,
            "max_width": null,
            "min_height": null,
            "min_width": null,
            "object_fit": null,
            "object_position": null,
            "order": null,
            "overflow": null,
            "overflow_x": null,
            "overflow_y": null,
            "padding": null,
            "right": null,
            "top": null,
            "visibility": null,
            "width": null
          }
        },
        "fe5f9690f4fe4b1a8b61329e40796344": {
          "model_module": "@jupyter-widgets/base",
          "model_name": "LayoutModel",
          "model_module_version": "1.2.0",
          "state": {
            "_model_module": "@jupyter-widgets/base",
            "_model_module_version": "1.2.0",
            "_model_name": "LayoutModel",
            "_view_count": null,
            "_view_module": "@jupyter-widgets/base",
            "_view_module_version": "1.2.0",
            "_view_name": "LayoutView",
            "align_content": null,
            "align_items": null,
            "align_self": null,
            "border": null,
            "bottom": null,
            "display": null,
            "flex": null,
            "flex_flow": null,
            "grid_area": null,
            "grid_auto_columns": null,
            "grid_auto_flow": null,
            "grid_auto_rows": null,
            "grid_column": null,
            "grid_gap": null,
            "grid_row": null,
            "grid_template_areas": null,
            "grid_template_columns": null,
            "grid_template_rows": null,
            "height": null,
            "justify_content": null,
            "justify_items": null,
            "left": null,
            "margin": null,
            "max_height": null,
            "max_width": null,
            "min_height": null,
            "min_width": null,
            "object_fit": null,
            "object_position": null,
            "order": null,
            "overflow": null,
            "overflow_x": null,
            "overflow_y": null,
            "padding": null,
            "right": null,
            "top": null,
            "visibility": null,
            "width": null
          }
        },
        "f596f5a62eb947549d1d8db3e7997bd7": {
          "model_module": "@jupyter-widgets/controls",
          "model_name": "DescriptionStyleModel",
          "model_module_version": "1.5.0",
          "state": {
            "_model_module": "@jupyter-widgets/controls",
            "_model_module_version": "1.5.0",
            "_model_name": "DescriptionStyleModel",
            "_view_count": null,
            "_view_module": "@jupyter-widgets/base",
            "_view_module_version": "1.2.0",
            "_view_name": "StyleView",
            "description_width": ""
          }
        },
        "cf80a4e0360141c0b56386a63c0f9765": {
          "model_module": "@jupyter-widgets/base",
          "model_name": "LayoutModel",
          "model_module_version": "1.2.0",
          "state": {
            "_model_module": "@jupyter-widgets/base",
            "_model_module_version": "1.2.0",
            "_model_name": "LayoutModel",
            "_view_count": null,
            "_view_module": "@jupyter-widgets/base",
            "_view_module_version": "1.2.0",
            "_view_name": "LayoutView",
            "align_content": null,
            "align_items": null,
            "align_self": null,
            "border": null,
            "bottom": null,
            "display": null,
            "flex": null,
            "flex_flow": null,
            "grid_area": null,
            "grid_auto_columns": null,
            "grid_auto_flow": null,
            "grid_auto_rows": null,
            "grid_column": null,
            "grid_gap": null,
            "grid_row": null,
            "grid_template_areas": null,
            "grid_template_columns": null,
            "grid_template_rows": null,
            "height": null,
            "justify_content": null,
            "justify_items": null,
            "left": null,
            "margin": null,
            "max_height": null,
            "max_width": null,
            "min_height": null,
            "min_width": null,
            "object_fit": null,
            "object_position": null,
            "order": null,
            "overflow": null,
            "overflow_x": null,
            "overflow_y": null,
            "padding": null,
            "right": null,
            "top": null,
            "visibility": null,
            "width": "20px"
          }
        },
        "12864a2c792944c38e460b7f51423718": {
          "model_module": "@jupyter-widgets/controls",
          "model_name": "ProgressStyleModel",
          "model_module_version": "1.5.0",
          "state": {
            "_model_module": "@jupyter-widgets/controls",
            "_model_module_version": "1.5.0",
            "_model_name": "ProgressStyleModel",
            "_view_count": null,
            "_view_module": "@jupyter-widgets/base",
            "_view_module_version": "1.2.0",
            "_view_name": "StyleView",
            "bar_color": null,
            "description_width": ""
          }
        },
        "8a016cfa5da74febb4685da97fde42c5": {
          "model_module": "@jupyter-widgets/base",
          "model_name": "LayoutModel",
          "model_module_version": "1.2.0",
          "state": {
            "_model_module": "@jupyter-widgets/base",
            "_model_module_version": "1.2.0",
            "_model_name": "LayoutModel",
            "_view_count": null,
            "_view_module": "@jupyter-widgets/base",
            "_view_module_version": "1.2.0",
            "_view_name": "LayoutView",
            "align_content": null,
            "align_items": null,
            "align_self": null,
            "border": null,
            "bottom": null,
            "display": null,
            "flex": null,
            "flex_flow": null,
            "grid_area": null,
            "grid_auto_columns": null,
            "grid_auto_flow": null,
            "grid_auto_rows": null,
            "grid_column": null,
            "grid_gap": null,
            "grid_row": null,
            "grid_template_areas": null,
            "grid_template_columns": null,
            "grid_template_rows": null,
            "height": null,
            "justify_content": null,
            "justify_items": null,
            "left": null,
            "margin": null,
            "max_height": null,
            "max_width": null,
            "min_height": null,
            "min_width": null,
            "object_fit": null,
            "object_position": null,
            "order": null,
            "overflow": null,
            "overflow_x": null,
            "overflow_y": null,
            "padding": null,
            "right": null,
            "top": null,
            "visibility": null,
            "width": null
          }
        },
        "27a92c9b27f247c185bff70379d5c018": {
          "model_module": "@jupyter-widgets/controls",
          "model_name": "DescriptionStyleModel",
          "model_module_version": "1.5.0",
          "state": {
            "_model_module": "@jupyter-widgets/controls",
            "_model_module_version": "1.5.0",
            "_model_name": "DescriptionStyleModel",
            "_view_count": null,
            "_view_module": "@jupyter-widgets/base",
            "_view_module_version": "1.2.0",
            "_view_name": "StyleView",
            "description_width": ""
          }
        },
        "b221ab8cca5c4aaf92a30df677fa33d4": {
          "model_module": "@jupyter-widgets/controls",
          "model_name": "HBoxModel",
          "model_module_version": "1.5.0",
          "state": {
            "_dom_classes": [],
            "_model_module": "@jupyter-widgets/controls",
            "_model_module_version": "1.5.0",
            "_model_name": "HBoxModel",
            "_view_count": null,
            "_view_module": "@jupyter-widgets/controls",
            "_view_module_version": "1.5.0",
            "_view_name": "HBoxView",
            "box_style": "",
            "children": [
              "IPY_MODEL_3467433caa3e45b88f2890bf56beb73a",
              "IPY_MODEL_7220889d22f745009b133633299e3f75",
              "IPY_MODEL_eaacbfca6b03425594815b2d246290e6"
            ],
            "layout": "IPY_MODEL_8d67449b770d4a8f88851e866e480668"
          }
        },
        "3467433caa3e45b88f2890bf56beb73a": {
          "model_module": "@jupyter-widgets/controls",
          "model_name": "HTMLModel",
          "model_module_version": "1.5.0",
          "state": {
            "_dom_classes": [],
            "_model_module": "@jupyter-widgets/controls",
            "_model_module_version": "1.5.0",
            "_model_name": "HTMLModel",
            "_view_count": null,
            "_view_module": "@jupyter-widgets/controls",
            "_view_module_version": "1.5.0",
            "_view_name": "HTMLView",
            "description": "",
            "description_tooltip": null,
            "layout": "IPY_MODEL_fb11ff3158a848b5831d094b9c506622",
            "placeholder": "​",
            "style": "IPY_MODEL_041a9d656bbe4672a5f05063335b63ca",
            "value": "Map: 100%"
          }
        },
        "7220889d22f745009b133633299e3f75": {
          "model_module": "@jupyter-widgets/controls",
          "model_name": "FloatProgressModel",
          "model_module_version": "1.5.0",
          "state": {
            "_dom_classes": [],
            "_model_module": "@jupyter-widgets/controls",
            "_model_module_version": "1.5.0",
            "_model_name": "FloatProgressModel",
            "_view_count": null,
            "_view_module": "@jupyter-widgets/controls",
            "_view_module_version": "1.5.0",
            "_view_name": "ProgressView",
            "bar_style": "success",
            "description": "",
            "description_tooltip": null,
            "layout": "IPY_MODEL_bf15dc0dab424669b477cd2c76fe46a3",
            "max": 3936,
            "min": 0,
            "orientation": "horizontal",
            "style": "IPY_MODEL_3afdde81f6e444c5a84b937cdda16f15",
            "value": 3936
          }
        },
        "eaacbfca6b03425594815b2d246290e6": {
          "model_module": "@jupyter-widgets/controls",
          "model_name": "HTMLModel",
          "model_module_version": "1.5.0",
          "state": {
            "_dom_classes": [],
            "_model_module": "@jupyter-widgets/controls",
            "_model_module_version": "1.5.0",
            "_model_name": "HTMLModel",
            "_view_count": null,
            "_view_module": "@jupyter-widgets/controls",
            "_view_module_version": "1.5.0",
            "_view_name": "HTMLView",
            "description": "",
            "description_tooltip": null,
            "layout": "IPY_MODEL_a6242f51365b4f569d9c02c843d6e439",
            "placeholder": "​",
            "style": "IPY_MODEL_c4952ca12dfd46b68c8c9d000880a299",
            "value": " 3936/3936 [00:16&lt;00:00, 243.00 examples/s]"
          }
        },
        "8d67449b770d4a8f88851e866e480668": {
          "model_module": "@jupyter-widgets/base",
          "model_name": "LayoutModel",
          "model_module_version": "1.2.0",
          "state": {
            "_model_module": "@jupyter-widgets/base",
            "_model_module_version": "1.2.0",
            "_model_name": "LayoutModel",
            "_view_count": null,
            "_view_module": "@jupyter-widgets/base",
            "_view_module_version": "1.2.0",
            "_view_name": "LayoutView",
            "align_content": null,
            "align_items": null,
            "align_self": null,
            "border": null,
            "bottom": null,
            "display": null,
            "flex": null,
            "flex_flow": null,
            "grid_area": null,
            "grid_auto_columns": null,
            "grid_auto_flow": null,
            "grid_auto_rows": null,
            "grid_column": null,
            "grid_gap": null,
            "grid_row": null,
            "grid_template_areas": null,
            "grid_template_columns": null,
            "grid_template_rows": null,
            "height": null,
            "justify_content": null,
            "justify_items": null,
            "left": null,
            "margin": null,
            "max_height": null,
            "max_width": null,
            "min_height": null,
            "min_width": null,
            "object_fit": null,
            "object_position": null,
            "order": null,
            "overflow": null,
            "overflow_x": null,
            "overflow_y": null,
            "padding": null,
            "right": null,
            "top": null,
            "visibility": null,
            "width": null
          }
        },
        "fb11ff3158a848b5831d094b9c506622": {
          "model_module": "@jupyter-widgets/base",
          "model_name": "LayoutModel",
          "model_module_version": "1.2.0",
          "state": {
            "_model_module": "@jupyter-widgets/base",
            "_model_module_version": "1.2.0",
            "_model_name": "LayoutModel",
            "_view_count": null,
            "_view_module": "@jupyter-widgets/base",
            "_view_module_version": "1.2.0",
            "_view_name": "LayoutView",
            "align_content": null,
            "align_items": null,
            "align_self": null,
            "border": null,
            "bottom": null,
            "display": null,
            "flex": null,
            "flex_flow": null,
            "grid_area": null,
            "grid_auto_columns": null,
            "grid_auto_flow": null,
            "grid_auto_rows": null,
            "grid_column": null,
            "grid_gap": null,
            "grid_row": null,
            "grid_template_areas": null,
            "grid_template_columns": null,
            "grid_template_rows": null,
            "height": null,
            "justify_content": null,
            "justify_items": null,
            "left": null,
            "margin": null,
            "max_height": null,
            "max_width": null,
            "min_height": null,
            "min_width": null,
            "object_fit": null,
            "object_position": null,
            "order": null,
            "overflow": null,
            "overflow_x": null,
            "overflow_y": null,
            "padding": null,
            "right": null,
            "top": null,
            "visibility": null,
            "width": null
          }
        },
        "041a9d656bbe4672a5f05063335b63ca": {
          "model_module": "@jupyter-widgets/controls",
          "model_name": "DescriptionStyleModel",
          "model_module_version": "1.5.0",
          "state": {
            "_model_module": "@jupyter-widgets/controls",
            "_model_module_version": "1.5.0",
            "_model_name": "DescriptionStyleModel",
            "_view_count": null,
            "_view_module": "@jupyter-widgets/base",
            "_view_module_version": "1.2.0",
            "_view_name": "StyleView",
            "description_width": ""
          }
        },
        "bf15dc0dab424669b477cd2c76fe46a3": {
          "model_module": "@jupyter-widgets/base",
          "model_name": "LayoutModel",
          "model_module_version": "1.2.0",
          "state": {
            "_model_module": "@jupyter-widgets/base",
            "_model_module_version": "1.2.0",
            "_model_name": "LayoutModel",
            "_view_count": null,
            "_view_module": "@jupyter-widgets/base",
            "_view_module_version": "1.2.0",
            "_view_name": "LayoutView",
            "align_content": null,
            "align_items": null,
            "align_self": null,
            "border": null,
            "bottom": null,
            "display": null,
            "flex": null,
            "flex_flow": null,
            "grid_area": null,
            "grid_auto_columns": null,
            "grid_auto_flow": null,
            "grid_auto_rows": null,
            "grid_column": null,
            "grid_gap": null,
            "grid_row": null,
            "grid_template_areas": null,
            "grid_template_columns": null,
            "grid_template_rows": null,
            "height": null,
            "justify_content": null,
            "justify_items": null,
            "left": null,
            "margin": null,
            "max_height": null,
            "max_width": null,
            "min_height": null,
            "min_width": null,
            "object_fit": null,
            "object_position": null,
            "order": null,
            "overflow": null,
            "overflow_x": null,
            "overflow_y": null,
            "padding": null,
            "right": null,
            "top": null,
            "visibility": null,
            "width": null
          }
        },
        "3afdde81f6e444c5a84b937cdda16f15": {
          "model_module": "@jupyter-widgets/controls",
          "model_name": "ProgressStyleModel",
          "model_module_version": "1.5.0",
          "state": {
            "_model_module": "@jupyter-widgets/controls",
            "_model_module_version": "1.5.0",
            "_model_name": "ProgressStyleModel",
            "_view_count": null,
            "_view_module": "@jupyter-widgets/base",
            "_view_module_version": "1.2.0",
            "_view_name": "StyleView",
            "bar_color": null,
            "description_width": ""
          }
        },
        "a6242f51365b4f569d9c02c843d6e439": {
          "model_module": "@jupyter-widgets/base",
          "model_name": "LayoutModel",
          "model_module_version": "1.2.0",
          "state": {
            "_model_module": "@jupyter-widgets/base",
            "_model_module_version": "1.2.0",
            "_model_name": "LayoutModel",
            "_view_count": null,
            "_view_module": "@jupyter-widgets/base",
            "_view_module_version": "1.2.0",
            "_view_name": "LayoutView",
            "align_content": null,
            "align_items": null,
            "align_self": null,
            "border": null,
            "bottom": null,
            "display": null,
            "flex": null,
            "flex_flow": null,
            "grid_area": null,
            "grid_auto_columns": null,
            "grid_auto_flow": null,
            "grid_auto_rows": null,
            "grid_column": null,
            "grid_gap": null,
            "grid_row": null,
            "grid_template_areas": null,
            "grid_template_columns": null,
            "grid_template_rows": null,
            "height": null,
            "justify_content": null,
            "justify_items": null,
            "left": null,
            "margin": null,
            "max_height": null,
            "max_width": null,
            "min_height": null,
            "min_width": null,
            "object_fit": null,
            "object_position": null,
            "order": null,
            "overflow": null,
            "overflow_x": null,
            "overflow_y": null,
            "padding": null,
            "right": null,
            "top": null,
            "visibility": null,
            "width": null
          }
        },
        "c4952ca12dfd46b68c8c9d000880a299": {
          "model_module": "@jupyter-widgets/controls",
          "model_name": "DescriptionStyleModel",
          "model_module_version": "1.5.0",
          "state": {
            "_model_module": "@jupyter-widgets/controls",
            "_model_module_version": "1.5.0",
            "_model_name": "DescriptionStyleModel",
            "_view_count": null,
            "_view_module": "@jupyter-widgets/base",
            "_view_module_version": "1.2.0",
            "_view_name": "StyleView",
            "description_width": ""
          }
        },
        "7e9a175572e14361bdb92ecda1a8f5d7": {
          "model_module": "@jupyter-widgets/controls",
          "model_name": "HBoxModel",
          "model_module_version": "1.5.0",
          "state": {
            "_dom_classes": [],
            "_model_module": "@jupyter-widgets/controls",
            "_model_module_version": "1.5.0",
            "_model_name": "HBoxModel",
            "_view_count": null,
            "_view_module": "@jupyter-widgets/controls",
            "_view_module_version": "1.5.0",
            "_view_name": "HBoxView",
            "box_style": "",
            "children": [
              "IPY_MODEL_184c7bbf41aa404d9b0ed8943f1b4628",
              "IPY_MODEL_8d94da7a0b2d4526a0d613225f796087",
              "IPY_MODEL_1c396d0fd87545a9b948a80483b62796"
            ],
            "layout": "IPY_MODEL_daadde34b7854e83813d8a93521f201b"
          }
        },
        "184c7bbf41aa404d9b0ed8943f1b4628": {
          "model_module": "@jupyter-widgets/controls",
          "model_name": "HTMLModel",
          "model_module_version": "1.5.0",
          "state": {
            "_dom_classes": [],
            "_model_module": "@jupyter-widgets/controls",
            "_model_module_version": "1.5.0",
            "_model_name": "HTMLModel",
            "_view_count": null,
            "_view_module": "@jupyter-widgets/controls",
            "_view_module_version": "1.5.0",
            "_view_name": "HTMLView",
            "description": "",
            "description_tooltip": null,
            "layout": "IPY_MODEL_232b38538c644ad0ad28a3affad04dc2",
            "placeholder": "​",
            "style": "IPY_MODEL_8a191eb69a56463ea5c0d840869aa85f",
            "value": "Map: 100%"
          }
        },
        "8d94da7a0b2d4526a0d613225f796087": {
          "model_module": "@jupyter-widgets/controls",
          "model_name": "FloatProgressModel",
          "model_module_version": "1.5.0",
          "state": {
            "_dom_classes": [],
            "_model_module": "@jupyter-widgets/controls",
            "_model_module_version": "1.5.0",
            "_model_name": "FloatProgressModel",
            "_view_count": null,
            "_view_module": "@jupyter-widgets/controls",
            "_view_module_version": "1.5.0",
            "_view_name": "ProgressView",
            "bar_style": "success",
            "description": "",
            "description_tooltip": null,
            "layout": "IPY_MODEL_6bcbf2f64f324e31a36e8eb273c6e0bb",
            "max": 984,
            "min": 0,
            "orientation": "horizontal",
            "style": "IPY_MODEL_9dbd219b51094e5292faf1a6e53b23c9",
            "value": 984
          }
        },
        "1c396d0fd87545a9b948a80483b62796": {
          "model_module": "@jupyter-widgets/controls",
          "model_name": "HTMLModel",
          "model_module_version": "1.5.0",
          "state": {
            "_dom_classes": [],
            "_model_module": "@jupyter-widgets/controls",
            "_model_module_version": "1.5.0",
            "_model_name": "HTMLModel",
            "_view_count": null,
            "_view_module": "@jupyter-widgets/controls",
            "_view_module_version": "1.5.0",
            "_view_name": "HTMLView",
            "description": "",
            "description_tooltip": null,
            "layout": "IPY_MODEL_2ecd8341bcbd4679afbcd57370351f0e",
            "placeholder": "​",
            "style": "IPY_MODEL_10f635af97394b3e9ad27595d80f6bb3",
            "value": " 984/984 [00:03&lt;00:00, 284.19 examples/s]"
          }
        },
        "daadde34b7854e83813d8a93521f201b": {
          "model_module": "@jupyter-widgets/base",
          "model_name": "LayoutModel",
          "model_module_version": "1.2.0",
          "state": {
            "_model_module": "@jupyter-widgets/base",
            "_model_module_version": "1.2.0",
            "_model_name": "LayoutModel",
            "_view_count": null,
            "_view_module": "@jupyter-widgets/base",
            "_view_module_version": "1.2.0",
            "_view_name": "LayoutView",
            "align_content": null,
            "align_items": null,
            "align_self": null,
            "border": null,
            "bottom": null,
            "display": null,
            "flex": null,
            "flex_flow": null,
            "grid_area": null,
            "grid_auto_columns": null,
            "grid_auto_flow": null,
            "grid_auto_rows": null,
            "grid_column": null,
            "grid_gap": null,
            "grid_row": null,
            "grid_template_areas": null,
            "grid_template_columns": null,
            "grid_template_rows": null,
            "height": null,
            "justify_content": null,
            "justify_items": null,
            "left": null,
            "margin": null,
            "max_height": null,
            "max_width": null,
            "min_height": null,
            "min_width": null,
            "object_fit": null,
            "object_position": null,
            "order": null,
            "overflow": null,
            "overflow_x": null,
            "overflow_y": null,
            "padding": null,
            "right": null,
            "top": null,
            "visibility": null,
            "width": null
          }
        },
        "232b38538c644ad0ad28a3affad04dc2": {
          "model_module": "@jupyter-widgets/base",
          "model_name": "LayoutModel",
          "model_module_version": "1.2.0",
          "state": {
            "_model_module": "@jupyter-widgets/base",
            "_model_module_version": "1.2.0",
            "_model_name": "LayoutModel",
            "_view_count": null,
            "_view_module": "@jupyter-widgets/base",
            "_view_module_version": "1.2.0",
            "_view_name": "LayoutView",
            "align_content": null,
            "align_items": null,
            "align_self": null,
            "border": null,
            "bottom": null,
            "display": null,
            "flex": null,
            "flex_flow": null,
            "grid_area": null,
            "grid_auto_columns": null,
            "grid_auto_flow": null,
            "grid_auto_rows": null,
            "grid_column": null,
            "grid_gap": null,
            "grid_row": null,
            "grid_template_areas": null,
            "grid_template_columns": null,
            "grid_template_rows": null,
            "height": null,
            "justify_content": null,
            "justify_items": null,
            "left": null,
            "margin": null,
            "max_height": null,
            "max_width": null,
            "min_height": null,
            "min_width": null,
            "object_fit": null,
            "object_position": null,
            "order": null,
            "overflow": null,
            "overflow_x": null,
            "overflow_y": null,
            "padding": null,
            "right": null,
            "top": null,
            "visibility": null,
            "width": null
          }
        },
        "8a191eb69a56463ea5c0d840869aa85f": {
          "model_module": "@jupyter-widgets/controls",
          "model_name": "DescriptionStyleModel",
          "model_module_version": "1.5.0",
          "state": {
            "_model_module": "@jupyter-widgets/controls",
            "_model_module_version": "1.5.0",
            "_model_name": "DescriptionStyleModel",
            "_view_count": null,
            "_view_module": "@jupyter-widgets/base",
            "_view_module_version": "1.2.0",
            "_view_name": "StyleView",
            "description_width": ""
          }
        },
        "6bcbf2f64f324e31a36e8eb273c6e0bb": {
          "model_module": "@jupyter-widgets/base",
          "model_name": "LayoutModel",
          "model_module_version": "1.2.0",
          "state": {
            "_model_module": "@jupyter-widgets/base",
            "_model_module_version": "1.2.0",
            "_model_name": "LayoutModel",
            "_view_count": null,
            "_view_module": "@jupyter-widgets/base",
            "_view_module_version": "1.2.0",
            "_view_name": "LayoutView",
            "align_content": null,
            "align_items": null,
            "align_self": null,
            "border": null,
            "bottom": null,
            "display": null,
            "flex": null,
            "flex_flow": null,
            "grid_area": null,
            "grid_auto_columns": null,
            "grid_auto_flow": null,
            "grid_auto_rows": null,
            "grid_column": null,
            "grid_gap": null,
            "grid_row": null,
            "grid_template_areas": null,
            "grid_template_columns": null,
            "grid_template_rows": null,
            "height": null,
            "justify_content": null,
            "justify_items": null,
            "left": null,
            "margin": null,
            "max_height": null,
            "max_width": null,
            "min_height": null,
            "min_width": null,
            "object_fit": null,
            "object_position": null,
            "order": null,
            "overflow": null,
            "overflow_x": null,
            "overflow_y": null,
            "padding": null,
            "right": null,
            "top": null,
            "visibility": null,
            "width": null
          }
        },
        "9dbd219b51094e5292faf1a6e53b23c9": {
          "model_module": "@jupyter-widgets/controls",
          "model_name": "ProgressStyleModel",
          "model_module_version": "1.5.0",
          "state": {
            "_model_module": "@jupyter-widgets/controls",
            "_model_module_version": "1.5.0",
            "_model_name": "ProgressStyleModel",
            "_view_count": null,
            "_view_module": "@jupyter-widgets/base",
            "_view_module_version": "1.2.0",
            "_view_name": "StyleView",
            "bar_color": null,
            "description_width": ""
          }
        },
        "2ecd8341bcbd4679afbcd57370351f0e": {
          "model_module": "@jupyter-widgets/base",
          "model_name": "LayoutModel",
          "model_module_version": "1.2.0",
          "state": {
            "_model_module": "@jupyter-widgets/base",
            "_model_module_version": "1.2.0",
            "_model_name": "LayoutModel",
            "_view_count": null,
            "_view_module": "@jupyter-widgets/base",
            "_view_module_version": "1.2.0",
            "_view_name": "LayoutView",
            "align_content": null,
            "align_items": null,
            "align_self": null,
            "border": null,
            "bottom": null,
            "display": null,
            "flex": null,
            "flex_flow": null,
            "grid_area": null,
            "grid_auto_columns": null,
            "grid_auto_flow": null,
            "grid_auto_rows": null,
            "grid_column": null,
            "grid_gap": null,
            "grid_row": null,
            "grid_template_areas": null,
            "grid_template_columns": null,
            "grid_template_rows": null,
            "height": null,
            "justify_content": null,
            "justify_items": null,
            "left": null,
            "margin": null,
            "max_height": null,
            "max_width": null,
            "min_height": null,
            "min_width": null,
            "object_fit": null,
            "object_position": null,
            "order": null,
            "overflow": null,
            "overflow_x": null,
            "overflow_y": null,
            "padding": null,
            "right": null,
            "top": null,
            "visibility": null,
            "width": null
          }
        },
        "10f635af97394b3e9ad27595d80f6bb3": {
          "model_module": "@jupyter-widgets/controls",
          "model_name": "DescriptionStyleModel",
          "model_module_version": "1.5.0",
          "state": {
            "_model_module": "@jupyter-widgets/controls",
            "_model_module_version": "1.5.0",
            "_model_name": "DescriptionStyleModel",
            "_view_count": null,
            "_view_module": "@jupyter-widgets/base",
            "_view_module_version": "1.2.0",
            "_view_name": "StyleView",
            "description_width": ""
          }
        }
      }
    }
  },
  "cells": [
    {
      "cell_type": "code",
      "source": [
        "!pip install datasets transformers peft bitsandbytes accelerate --quiet"
      ],
      "metadata": {
        "id": "neeCijcDtB8O"
      },
      "execution_count": null,
      "outputs": []
    },
    {
      "cell_type": "code",
      "execution_count": null,
      "metadata": {
        "id": "sRFqhFYCiHsd"
      },
      "outputs": [],
      "source": [
        "import pandas as pd\n",
        "import json\n",
        "from datasets import load_dataset\n",
        "from transformers import AutoTokenizer, AutoModelForCausalLM, Trainer, TrainingArguments\n",
        "from peft import get_peft_model, LoraConfig, TaskType\n",
        "from sklearn.model_selection import train_test_split\n",
        "import torch\n",
        "import wandb"
      ]
    },
    {
      "cell_type": "code",
      "source": [
        "wandb.login()"
      ],
      "metadata": {
        "colab": {
          "base_uri": "https://localhost:8080/"
        },
        "id": "yAvyuwWj0kUm",
        "outputId": "960efee0-14bd-4999-a7e2-4fd9e913b7d1"
      },
      "execution_count": null,
      "outputs": [
        {
          "output_type": "stream",
          "name": "stderr",
          "text": [
            "\u001b[34m\u001b[1mwandb\u001b[0m: Currently logged in as: \u001b[33mkhachblb06\u001b[0m (\u001b[33mkhachblb06-polytechnic-of-a\u001b[0m) to \u001b[32mhttps://api.wandb.ai\u001b[0m. Use \u001b[1m`wandb login --relogin`\u001b[0m to force relogin\n"
          ]
        },
        {
          "output_type": "execute_result",
          "data": {
            "text/plain": [
              "True"
            ]
          },
          "metadata": {},
          "execution_count": 3
        }
      ]
    },
    {
      "cell_type": "code",
      "source": [
        "df = pd.read_csv(\"MedicalTranscription.csv\",quotechar='\"', on_bad_lines='skip')\n",
        "\n",
        "df = df[[\"medical_specialty\", \"transcription\"]]\n",
        "df = df.dropna()\n",
        "df = df[df[\"medical_specialty\"].str.len() > 0]\n",
        "df = df[df[\"transcription\"].str.len() > 100]"
      ],
      "metadata": {
        "id": "ElONPR4SjSH3"
      },
      "execution_count": null,
      "outputs": []
    },
    {
      "cell_type": "code",
      "source": [
        "df[\"text\"] = \"Specialty: \" + df[\"medical_specialty\"] + \"\\n\\n\" + df[\"transcription\"]\n",
        "df[\"label\"] = df[\"medical_specialty\"]\n",
        "df = df[[\"text\", \"label\"]]\n"
      ],
      "metadata": {
        "id": "1tB5KCWKjYJc"
      },
      "execution_count": null,
      "outputs": []
    },
    {
      "cell_type": "code",
      "source": [
        "train_df, test_df = train_test_split(df, test_size=0.2, random_state=42, stratify=df[\"label\"])"
      ],
      "metadata": {
        "id": "9RPxNxoFmjo3"
      },
      "execution_count": null,
      "outputs": []
    },
    {
      "cell_type": "code",
      "source": [
        "def convert_to_chat_format(df, out_filename):\n",
        "    data = []\n",
        "    for _, row in df.iterrows():\n",
        "        example = {\n",
        "            \"messages\": [\n",
        "                {\"role\": \"system\", \"content\": \"You are a helpful medical assistant.\"},\n",
        "                {\"role\": \"user\", \"content\": f\"Below is a medical note. Please classify it into the correct category.\\n\\nNote:\\n{row['text']}\"},\n",
        "                {\"role\": \"assistant\", \"content\": row[\"label\"]}\n",
        "            ]\n",
        "        }\n",
        "        data.append(example)\n",
        "\n",
        "    with open(out_filename, \"w\", encoding=\"utf-8\") as f:\n",
        "        for item in data:\n",
        "            f.write(json.dumps(item, ensure_ascii=False) + \"\\n\")\n"
      ],
      "metadata": {
        "id": "VclW3khvmfeM"
      },
      "execution_count": null,
      "outputs": []
    },
    {
      "cell_type": "code",
      "source": [
        "print(train_df.columns)\n"
      ],
      "metadata": {
        "colab": {
          "base_uri": "https://localhost:8080/"
        },
        "id": "Y5LJptK4robC",
        "outputId": "86463d31-934b-42e7-e840-244e06d43e78"
      },
      "execution_count": null,
      "outputs": [
        {
          "output_type": "stream",
          "name": "stdout",
          "text": [
            "Index(['text', 'label'], dtype='object')\n"
          ]
        }
      ]
    },
    {
      "cell_type": "code",
      "source": [
        "convert_to_chat_format(train_df, \"train_chat_format.jsonl\")\n",
        "convert_to_chat_format(test_df, \"test_chat_format.jsonl\")"
      ],
      "metadata": {
        "id": "s86VZD2JmsQF"
      },
      "execution_count": null,
      "outputs": []
    },
    {
      "cell_type": "code",
      "source": [
        "with open(\"train_chat_format.jsonl\", \"r\", encoding=\"utf-8\") as f:\n",
        "    for i, line in enumerate(f):\n",
        "        print(line)\n",
        "        if i == 4:\n",
        "            break\n"
      ],
      "metadata": {
        "colab": {
          "base_uri": "https://localhost:8080/"
        },
        "id": "ny-y-xePsSrd",
        "outputId": "1ba59a08-af72-4f79-b2ea-a198b2413874"
      },
      "execution_count": null,
      "outputs": [
        {
          "output_type": "stream",
          "name": "stdout",
          "text": [
            "{\"messages\": [{\"role\": \"system\", \"content\": \"You are a helpful medical assistant.\"}, {\"role\": \"user\", \"content\": \"Below is a medical note. Please classify it into the correct category.\\n\\nNote:\\nSpecialty:  Surgery\\n\\nPREOPERATIVE DIAGNOSIS:,  Rhabdomyosarcoma of the left orbit.,POSTOPERATIVE DIAGNOSIS:,  Rhabdomyosarcoma of the left orbit.,PROCEDURE: , Left subclavian vein MediPort placement (7.5-French single-lumen).,INDICATIONS FOR PROCEDURE: , This patient is a 16-year-old girl, with newly diagnosed rhabdomyosarcoma of the left orbit.  The patient is being taken to the operating room for MediPort placement.  She needs chemotherapy.,DESCRIPTION OF PROCEDURE: , The patient was taken to the operating room, placed supine, put under general endotracheal anesthesia.  The patient's neck, chest, and shoulders were prepped and draped in usual sterile fashion.  An incision was made on the left shoulder area.  The left subclavian vein was cannulated.  The wire was passed, which was in good position under fluoro, using Seldinger Technique.  Near wire incision site made a pocket above the fascia and sutured in a size 7.5-French single-lumen MediPort into the pocket in 4 places using 3-0 Nurolon.  I then sized the catheter under fluoro and placed introducer and dilator over the wire, removed the wire and dilator, placed the catheter through the introducer and removed the introducer.  The line tip was in good position under fluoro.  It withdrew and flushed well.  I then closed the incision using 4-0 Vicryl, 5-0 Monocryl for the skin, and dressed with Steri-Strips.  Accessed the ports with a 1-inch 20-gauge Huber needle, and it withdrew and flushed well with final heparin flush.  We secured this with Tegaderm.  The patient is then to undergo bilateral bone marrow biopsy and lumbar puncture by Oncology.\"}, {\"role\": \"assistant\", \"content\": \" Surgery\"}]}\n",
            "\n",
            "{\"messages\": [{\"role\": \"system\", \"content\": \"You are a helpful medical assistant.\"}, {\"role\": \"user\", \"content\": \"Below is a medical note. Please classify it into the correct category.\\n\\nNote:\\nSpecialty:  Office Notes\\n\\nREVIEW OF SYSTEMS,GENERAL:  Negative weakness, negative fatigue, native malaise, negative chills, negative fever, negative night sweats, negative allergies.,INTEGUMENTARY:  Negative rash, negative jaundice.,HEMATOPOIETIC:  Negative bleeding, negative lymph node enlargement, negative bruisability.,NEUROLOGIC:  Negative headaches, negative syncope, negative seizures, negative weakness, negative tremor.  No history of strokes, no history of other neurologic conditions.,EYES:  Negative visual changes, negative diplopia, negative scotomata, negative impaired vision.,EARS:  Negative tinnitus, negative vertigo, negative hearing impairment.,NOSE AND THROAT:  Negative postnasal drip, negative sore throat.,CARDIOVASCULAR:  Negative chest pain, negative dyspnea on exertion, negative palpations, negative edema.  No history of heart attack, no history of arrhythmias, no history of hypertension.,RESPIRATORY:  No history of shortness of breath, no history of asthma, no history of chronic obstructive pulmonary disease, no history of obstructive sleep apnea.,GASTROINTESTINAL:  Negative dysphagia, negative nausea, negative vomiting, negative hematemesis, negative abdominal pain.,GENITOURINARY:  Negative frequency, negative urgency, negative dysuria, negative incontinence.  No history of STDs.  **No history of OB/GYN problems.,MUSCULOSKELETAL:  Negative myalgia, negative joint pain, negative stiffness, negative weakness, negative back pain.,PSYCHIATRIC:  See psychiatric evaluation.,ENDOCRINE:  No history of diabetes mellitus, no history of thyroid problems, no history of endocrinologic abnormalities.\"}, {\"role\": \"assistant\", \"content\": \" Office Notes\"}]}\n",
            "\n",
            "{\"messages\": [{\"role\": \"system\", \"content\": \"You are a helpful medical assistant.\"}, {\"role\": \"user\", \"content\": \"Below is a medical note. Please classify it into the correct category.\\n\\nNote:\\nSpecialty:  Neurosurgery\\n\\nPREOPERATIVE DIAGNOSIS: , Right chronic subdural hematoma.,POSTOPERATIVE DIAGNOSIS: ,Right chronic subdural hematoma.,TYPE OF OPERATION: , Right burr hole craniotomy for evacuation of subdural hematoma and placement of subdural drain.,ANESTHESIA: , General endotracheal anesthesia.,ESTIMATED BLOOD LOSS: , 100 cc.,OPERATIVE PROCEDURE:,  In preoperative identification, the patient was taken to the operating room and placed in supine position.  Following induction of satisfactory general endotracheal anesthesia, the patient was prepared for surgery.  Table was turned.  The right shoulder roll was placed.  The head was turned to the left and rested on a doughnut.  The scalp was shaved, and then prepped and draped in usual sterile fashion.  Incisions were marked along a putative right frontotemporal craniotomy frontally and over the parietal boss.  The parietal boss incision was opened.  It was about an inch and a half in length.  It was carried down to the skull.  Self-retaining retractor was placed.  A bur hole was now fashioned with the perforator.  This was widened with a 2-mm Kerrison punch.  The dura was now coagulated with bipolar electrocautery.  It was opened in a cruciate-type fashion.  The dural edges were coagulated back to the bony edges.  There was egress of a large amount of liquid.  Under pressure, we irrigated for quite sometime until irrigation was returning mostly clear.  A subdural drain was now inserted under direct vision into the subdural space and brought out through a separate stab incision.  It was secured with a 3-0 nylon suture.  The area was closed with interrupted inverted 2-0 Vicryl sutures.  The skin was closed with staples.  Sterile dressing was applied.  The patient was subsequently returned back to anesthesia.  He was extubated in the operating room, and transported to PACU in satisfactory condition.\"}, {\"role\": \"assistant\", \"content\": \" Neurosurgery\"}]}\n",
            "\n",
            "{\"messages\": [{\"role\": \"system\", \"content\": \"You are a helpful medical assistant.\"}, {\"role\": \"user\", \"content\": \"Below is a medical note. Please classify it into the correct category.\\n\\nNote:\\nSpecialty:  Cardiovascular / Pulmonary\\n\\nOPERATION: , Left lower lobectomy.,OPERATIVE PROCEDURE IN DETAIL: , The patient was brought to the operating room and placed in the supine position.  After general endotracheal anesthesia was induced, the appropriate monitoring devices were placed.  The patient was placed in the right lateral decubitus position.  The left chest and back were prepped and draped in a sterile fashion.  A right lateral thoracotomy incision was made.  Subcutaneous flaps were raised.  The anterior border of the latissimus dorsi was freed up, and the muscle was retracted posteriorly.  The posterior border of the pectoralis was freed up and it was retracted anteriorly.  The 5th intercostal space was entered.,The inferior pulmonary ligament was then taken down with electrocautery.  The major fissure was then taken down and arteries identified.  The artery was dissected free and it was divided with an Endo GIA stapler.  The vein was then dissected free and divided with an Endo GIA stapler.  The bronchus was then cleaned of all nodal tissue.  A TA-30 green loaded stapler was then placed across this, fired, and main bronchus divided distal to the stapler.,Then the lobe was removed and sent to pathology where margins were found to be free of tumor.  Level 9, level 13, level 11, and level 6 nodes were taken for permanent cell specimen.  Hemostasis noted.  Posterior 28-French and anterior 24-French chest tubes were placed.,The wounds were closed with #2 Vicryl.  A subcutaneous drain was placed.  Subcutaneous tissue was closed with running 3-0 Dexon, skin with running 4-0 Dexon subcuticular stitch.\"}, {\"role\": \"assistant\", \"content\": \" Cardiovascular / Pulmonary\"}]}\n",
            "\n",
            "{\"messages\": [{\"role\": \"system\", \"content\": \"You are a helpful medical assistant.\"}, {\"role\": \"user\", \"content\": \"Below is a medical note. Please classify it into the correct category.\\n\\nNote:\\nSpecialty:  Emergency Room Reports\\n\\nCHIEF COMPLAINT:, Bright red blood per rectum ,HISTORY OF PRESENT ILLNESS: ,This 73-year-old woman had a recent medical history significant for renal and bladder cancer, deep venous thrombosis of the right lower extremity, and anticoagulation therapy complicated by lower gastrointestinal bleeding. Colonoscopy during that admission showed internal hemorrhoids and diverticulosis, but a bleeding site was not identified. Five days after discharge to a nursing home, she again experienced bloody bowel movements and returned to the emergency department for evaluation. ,REVIEW OF SYMPTOMS: ,No chest pain, palpitations, abdominal pain or cramping, nausea, vomiting, or lightheadedness. Positive for generalized weakness and diarrhea the day of admission. ,PRIOR MEDICAL HISTORY:, Long-standing hypertension, intermittent atrial fibrillation, and hypercholesterolemia. Renal cell carcinoma and transitional cell bladder cancer status post left nephrectomy, radical cystectomy, and ileal loop diversion 6 weeks prior to presentation, postoperative course complicated by pneumonia, urinary tract infection, and retroperitoneal bleed. Deep venous thrombosis 2 weeks prior to presentation, management complicated by lower gastrointestinal bleeding, status post inferior vena cava filter placement. ,MEDICATIONS: ,Diltiazem 30 mg tid, pantoprazole 40 mg qd, epoetin alfa 40,000 units weekly, iron 325 mg bid, cholestyramine. Warfarin discontinued approximately 10 days earlier. ,ALLERGIES: ,Celecoxib (rash).,SOCIAL HISTORY:, Resided at nursing home. Denied alcohol, tobacco, and drug use. ,FAMILY HISTORY:, Non-contributory.,PHYSICAL EXAM: ,Temp = 38.3C BP =146/52 HR= 113 RR = 18 SaO2 = 98% room air ,General: Pale, ill-appearing elderly female. ,HEENT: Pale conjunctivae, oral mucous membranes moist. ,CVS: Irregularly irregular, tachycardia. ,Lungs: Decreased breath sounds at the bases. ,Abdomen: Positive bowel sounds, soft, nontender, nondistended, gross blood on rectal exam. ,Extremities: No cyanosis, clubbing, or edema. ,Skin: Warm, normal turgor. ,Neuro: Alert and oriented. Nonfocal. ,LABS: ,CBC: ,WBC count: 6,500 per mL ,Hemoglobin: 10.3 g/dL ,Hematocrit:31.8% ,Platelet count: 248 per mL ,Mean corpuscular volume: 86.5 fL ,RDW: 18% ,CHEM 7: ,Sodium: 131 mmol/L ,Potassium: 3.5 mmol/L ,Chloride: 98 mmol/L ,Bicarbonate: 23 mmol/L ,BUN: 11 mg/dL ,Creatinine: 1.1 mg/dL ,Glucose: 105 mg/dL ,COAGULATION STUDIES: ,PT 15.7 sec ,INR 1.6 ,PTT 29.5 sec ,HOSPITAL COURSE: ,The patient received 1 liter normal saline and diltiazem (a total of 20 mg intravenously and 30 mg orally) in the emergency department. Emergency department personnel made several attempts to place a nasogastric tube for gastric lavage, but were unsuccessful. During her evaluation, the patient was noted to desaturate to 80% on room air, with an increase in her respiratory rate to 34 breaths per minute. She was administered 50% oxygen by nonrebreadier mask, with improvement in her oxygen saturation to 89%. Computed tomographic angiography was negative for pulmonary embolism. \"}, {\"role\": \"assistant\", \"content\": \" Emergency Room Reports\"}]}\n",
            "\n"
          ]
        }
      ]
    },
    {
      "cell_type": "code",
      "source": [
        "data_files = {\n",
        "    \"train\": \"train_chat_format.jsonl\",\n",
        "    \"test\": \"test_chat_format.jsonl\"\n",
        "}\n"
      ],
      "metadata": {
        "id": "OsSV4Q6CsfyP"
      },
      "execution_count": null,
      "outputs": []
    },
    {
      "cell_type": "code",
      "source": [
        "dataset = load_dataset(\"json\", data_files=data_files, split=None)\n",
        "train_dataset = dataset[\"train\"]\n",
        "test_dataset = dataset[\"test\"]"
      ],
      "metadata": {
        "colab": {
          "base_uri": "https://localhost:8080/",
          "height": 81,
          "referenced_widgets": [
            "69d7974a1b374fc1a55ba9cb41c7f6d3",
            "05ba149e42b64f1dad7000d2f04a0f54",
            "6b2d0d2f3a5e43e3b68db82779f960fe",
            "57d749748231477b841497f11258dd92",
            "4f089719feef4c53828d534ef6ee7191",
            "1e4e805805a246b9be33af20d9d9eb84",
            "e42365f5944c4747a163f8541fce9a62",
            "a78caee3e5ab4bca8eb283ff9023a599",
            "21ef8b2ba0db435b8ef93a9244cba908",
            "c87dcb3dc420444492fc3c6823047e87",
            "c0ab2b8470354eab98338827dc923790",
            "1ce77348cdf5447d92aa85506c56a0c8",
            "d80aebfc3dbf46ffaf56255243ee8b7f",
            "7e4fa4f233d9476d8b70f790fccba35b",
            "199195cc47aa40c985c164bde0098296",
            "d80ffb3395794f59a959c15cf6a8f97f",
            "fe5f9690f4fe4b1a8b61329e40796344",
            "f596f5a62eb947549d1d8db3e7997bd7",
            "cf80a4e0360141c0b56386a63c0f9765",
            "12864a2c792944c38e460b7f51423718",
            "8a016cfa5da74febb4685da97fde42c5",
            "27a92c9b27f247c185bff70379d5c018"
          ]
        },
        "id": "ekOIljFGsziH",
        "outputId": "c8e0fc6c-bacb-4905-f14e-51df70124711"
      },
      "execution_count": null,
      "outputs": [
        {
          "output_type": "display_data",
          "data": {
            "text/plain": [
              "Generating train split: 0 examples [00:00, ? examples/s]"
            ],
            "application/vnd.jupyter.widget-view+json": {
              "version_major": 2,
              "version_minor": 0,
              "model_id": "69d7974a1b374fc1a55ba9cb41c7f6d3"
            }
          },
          "metadata": {}
        },
        {
          "output_type": "display_data",
          "data": {
            "text/plain": [
              "Generating test split: 0 examples [00:00, ? examples/s]"
            ],
            "application/vnd.jupyter.widget-view+json": {
              "version_major": 2,
              "version_minor": 0,
              "model_id": "1ce77348cdf5447d92aa85506c56a0c8"
            }
          },
          "metadata": {}
        }
      ]
    },
    {
      "cell_type": "code",
      "source": [
        "print(f\"Train samples: {len(train_dataset)}\")\n",
        "print(f\"Test samples: {len(test_dataset)}\")\n"
      ],
      "metadata": {
        "colab": {
          "base_uri": "https://localhost:8080/"
        },
        "id": "D1TBhdnCt-SK",
        "outputId": "9afc5fc4-2df4-496e-d958-c2cf62672e8e"
      },
      "execution_count": null,
      "outputs": [
        {
          "output_type": "stream",
          "name": "stdout",
          "text": [
            "Train samples: 3936\n",
            "Test samples: 984\n"
          ]
        }
      ]
    },
    {
      "cell_type": "code",
      "source": [
        "model_name = \"TinyLlama/TinyLlama-1.1B-Chat-v1.0\"\n",
        "tokenizer = AutoTokenizer.from_pretrained(model_name)\n",
        "model = AutoModelForCausalLM.from_pretrained(model_name, torch_dtype=torch.float16, device_map=\"auto\")"
      ],
      "metadata": {
        "colab": {
          "base_uri": "https://localhost:8080/"
        },
        "id": "wSbV51MguBtE",
        "outputId": "c34caf1c-603f-4f5e-b450-1032013de2b5"
      },
      "execution_count": null,
      "outputs": [
        {
          "output_type": "stream",
          "name": "stderr",
          "text": [
            "/usr/local/lib/python3.11/dist-packages/huggingface_hub/utils/_auth.py:94: UserWarning: \n",
            "The secret `HF_TOKEN` does not exist in your Colab secrets.\n",
            "To authenticate with the Hugging Face Hub, create a token in your settings tab (https://huggingface.co/settings/tokens), set it as secret in your Google Colab and restart your session.\n",
            "You will be able to reuse this secret in all of your notebooks.\n",
            "Please note that authentication is recommended but still optional to access public models or datasets.\n",
            "  warnings.warn(\n"
          ]
        }
      ]
    },
    {
      "cell_type": "code",
      "source": [
        "def preprocess_function(examples):\n",
        "    def concat_messages(messages):\n",
        "        return tokenizer.apply_chat_template(messages, tokenize=False, add_generation_prompt=False)\n",
        "\n",
        "    inputs = [concat_messages(m) for m in examples[\"messages\"]]\n",
        "    model_inputs = tokenizer(inputs, truncation=True, padding=\"max_length\", max_length=512, return_tensors=\"pt\")\n",
        "\n",
        "    labels = []\n",
        "    for messages in examples[\"messages\"]:\n",
        "\n",
        "        assistant_content = messages[-1][\"content\"]\n",
        "        label_ids = tokenizer(assistant_content, truncation=True, padding=\"max_length\", max_length=512, return_tensors=\"pt\")[\"input_ids\"]\n",
        "        labels.append(label_ids)\n",
        "\n",
        "    padded_labels = torch.cat(labels, dim=0)\n",
        "\n",
        "    padded_labels[padded_labels == tokenizer.pad_token_id] = -100\n",
        "\n",
        "    model_inputs[\"labels\"] = padded_labels\n",
        "    return model_inputs"
      ],
      "metadata": {
        "id": "4GinwPLYwWpj"
      },
      "execution_count": null,
      "outputs": []
    },
    {
      "cell_type": "code",
      "source": [
        "train_dataset = train_dataset.map(preprocess_function, batched=True)\n",
        "test_dataset = test_dataset.map(preprocess_function, batched=True)"
      ],
      "metadata": {
        "colab": {
          "base_uri": "https://localhost:8080/",
          "height": 81,
          "referenced_widgets": [
            "b221ab8cca5c4aaf92a30df677fa33d4",
            "3467433caa3e45b88f2890bf56beb73a",
            "7220889d22f745009b133633299e3f75",
            "eaacbfca6b03425594815b2d246290e6",
            "8d67449b770d4a8f88851e866e480668",
            "fb11ff3158a848b5831d094b9c506622",
            "041a9d656bbe4672a5f05063335b63ca",
            "bf15dc0dab424669b477cd2c76fe46a3",
            "3afdde81f6e444c5a84b937cdda16f15",
            "a6242f51365b4f569d9c02c843d6e439",
            "c4952ca12dfd46b68c8c9d000880a299",
            "7e9a175572e14361bdb92ecda1a8f5d7",
            "184c7bbf41aa404d9b0ed8943f1b4628",
            "8d94da7a0b2d4526a0d613225f796087",
            "1c396d0fd87545a9b948a80483b62796",
            "daadde34b7854e83813d8a93521f201b",
            "232b38538c644ad0ad28a3affad04dc2",
            "8a191eb69a56463ea5c0d840869aa85f",
            "6bcbf2f64f324e31a36e8eb273c6e0bb",
            "9dbd219b51094e5292faf1a6e53b23c9",
            "2ecd8341bcbd4679afbcd57370351f0e",
            "10f635af97394b3e9ad27595d80f6bb3"
          ]
        },
        "id": "Ws7re_NHyrR7",
        "outputId": "6555fd09-53a8-4f11-9e5b-7d57108f0f3b"
      },
      "execution_count": null,
      "outputs": [
        {
          "output_type": "display_data",
          "data": {
            "text/plain": [
              "Map:   0%|          | 0/3936 [00:00<?, ? examples/s]"
            ],
            "application/vnd.jupyter.widget-view+json": {
              "version_major": 2,
              "version_minor": 0,
              "model_id": "b221ab8cca5c4aaf92a30df677fa33d4"
            }
          },
          "metadata": {}
        },
        {
          "output_type": "display_data",
          "data": {
            "text/plain": [
              "Map:   0%|          | 0/984 [00:00<?, ? examples/s]"
            ],
            "application/vnd.jupyter.widget-view+json": {
              "version_major": 2,
              "version_minor": 0,
              "model_id": "7e9a175572e14361bdb92ecda1a8f5d7"
            }
          },
          "metadata": {}
        }
      ]
    },
    {
      "cell_type": "code",
      "source": [
        "lora_config = LoraConfig(\n",
        "    r=8,\n",
        "    lora_alpha=16,\n",
        "    target_modules=[\"q_proj\", \"k_proj\", \"v_proj\", \"o_proj\"],\n",
        "    lora_dropout=0.1,\n",
        "    bias=\"none\",\n",
        "    task_type=TaskType.CAUSAL_LM\n",
        ")"
      ],
      "metadata": {
        "id": "baMxeQmxyxoz"
      },
      "execution_count": null,
      "outputs": []
    },
    {
      "cell_type": "code",
      "source": [
        "model = get_peft_model(model, lora_config)"
      ],
      "metadata": {
        "id": "TU8TeB4Xy7a6"
      },
      "execution_count": null,
      "outputs": []
    },
    {
      "cell_type": "code",
      "source": [
        "training_args = TrainingArguments(\n",
        "    output_dir=\"./output\",\n",
        "    per_device_train_batch_size=2,\n",
        "    per_device_eval_batch_size=2,\n",
        "    num_train_epochs=1,\n",
        "    eval_strategy=\"steps\",\n",
        "    eval_steps=100,\n",
        "    save_steps=100,\n",
        "    logging_steps=50,\n",
        "    save_total_limit=2,\n",
        "    learning_rate=3e-4,\n",
        "    warmup_steps=100,\n",
        "    fp16=True,\n",
        "    load_best_model_at_end=True\n",
        ")"
      ],
      "metadata": {
        "id": "S1fq-ehWzlog"
      },
      "execution_count": null,
      "outputs": []
    },
    {
      "cell_type": "code",
      "metadata": {
        "id": "17fa669a"
      },
      "source": [
        "from transformers import DataCollatorForLanguageModeling\n",
        "\n",
        "data_collator = DataCollatorForLanguageModeling(tokenizer=tokenizer, mlm=False)"
      ],
      "execution_count": null,
      "outputs": []
    },
    {
      "cell_type": "code",
      "source": [
        "wandb.init(project=\"classification-with-llm\",name = \"fine-tuning-llm\")"
      ],
      "metadata": {
        "colab": {
          "base_uri": "https://localhost:8080/",
          "height": 125
        },
        "id": "EVHOqcom1TEz",
        "outputId": "72ae10dd-06f1-41aa-8202-c3ddc2a14ba3"
      },
      "execution_count": null,
      "outputs": [
        {
          "output_type": "display_data",
          "data": {
            "text/plain": [
              "<IPython.core.display.HTML object>"
            ],
            "text/html": [
              "Tracking run with wandb version 0.21.0"
            ]
          },
          "metadata": {}
        },
        {
          "output_type": "display_data",
          "data": {
            "text/plain": [
              "<IPython.core.display.HTML object>"
            ],
            "text/html": [
              "Run data is saved locally in <code>/content/wandb/run-20250805_155123-mviachxn</code>"
            ]
          },
          "metadata": {}
        },
        {
          "output_type": "display_data",
          "data": {
            "text/plain": [
              "<IPython.core.display.HTML object>"
            ],
            "text/html": [
              "Syncing run <strong><a href='https://wandb.ai/khachblb06-polytechnic-of-a/classification-with-llm/runs/mviachxn' target=\"_blank\">fine-tuning-llm</a></strong> to <a href='https://wandb.ai/khachblb06-polytechnic-of-a/classification-with-llm' target=\"_blank\">Weights & Biases</a> (<a href='https://wandb.me/developer-guide' target=\"_blank\">docs</a>)<br>"
            ]
          },
          "metadata": {}
        },
        {
          "output_type": "display_data",
          "data": {
            "text/plain": [
              "<IPython.core.display.HTML object>"
            ],
            "text/html": [
              " View project at <a href='https://wandb.ai/khachblb06-polytechnic-of-a/classification-with-llm' target=\"_blank\">https://wandb.ai/khachblb06-polytechnic-of-a/classification-with-llm</a>"
            ]
          },
          "metadata": {}
        },
        {
          "output_type": "display_data",
          "data": {
            "text/plain": [
              "<IPython.core.display.HTML object>"
            ],
            "text/html": [
              " View run at <a href='https://wandb.ai/khachblb06-polytechnic-of-a/classification-with-llm/runs/mviachxn' target=\"_blank\">https://wandb.ai/khachblb06-polytechnic-of-a/classification-with-llm/runs/mviachxn</a>"
            ]
          },
          "metadata": {}
        },
        {
          "output_type": "execute_result",
          "data": {
            "text/html": [
              "<button onClick=\"this.nextSibling.style.display='block';this.style.display='none';\">Display W&B run</button><iframe src='https://wandb.ai/khachblb06-polytechnic-of-a/classification-with-llm/runs/mviachxn?jupyter=true' style='border:none;width:100%;height:420px;display:none;'></iframe>"
            ],
            "text/plain": [
              "<wandb.sdk.wandb_run.Run at 0x7fcb743a4f50>"
            ]
          },
          "metadata": {},
          "execution_count": 21
        }
      ]
    },
    {
      "cell_type": "code",
      "metadata": {
        "colab": {
          "base_uri": "https://localhost:8080/"
        },
        "id": "246eaa0a",
        "outputId": "58634bd6-1b41-4e3a-c0a9-ec6b06078378"
      },
      "source": [
        "trainer = Trainer(\n",
        "    model=model,\n",
        "    args=training_args,\n",
        "    train_dataset=train_dataset,\n",
        "    eval_dataset=test_dataset,\n",
        "    tokenizer=tokenizer,\n",
        "    data_collator=data_collator,\n",
        ")"
      ],
      "execution_count": null,
      "outputs": [
        {
          "output_type": "stream",
          "name": "stderr",
          "text": [
            "/tmp/ipython-input-2450625910.py:1: FutureWarning: `tokenizer` is deprecated and will be removed in version 5.0.0 for `Trainer.__init__`. Use `processing_class` instead.\n",
            "  trainer = Trainer(\n",
            "No label_names provided for model class `PeftModelForCausalLM`. Since `PeftModel` hides base models input arguments, if label_names is not given, label_names can't be set automatically within `Trainer`. Note that empty label_names list will be used instead.\n"
          ]
        }
      ]
    },
    {
      "cell_type": "code",
      "metadata": {
        "colab": {
          "base_uri": "https://localhost:8080/",
          "height": 743
        },
        "id": "7f90f7f5",
        "outputId": "ab0b25ba-72a0-49cd-cf47-6e9874e744b1"
      },
      "source": [
        "trainer.train()"
      ],
      "execution_count": null,
      "outputs": [
        {
          "output_type": "stream",
          "name": "stderr",
          "text": [
            "\u001b[34m\u001b[1mwandb\u001b[0m: \u001b[33mWARNING\u001b[0m The `run_name` is currently set to the same value as `TrainingArguments.output_dir`. If this was not intended, please specify a different run name by setting the `TrainingArguments.run_name` parameter.\n"
          ]
        },
        {
          "output_type": "display_data",
          "data": {
            "text/plain": [
              "<IPython.core.display.HTML object>"
            ],
            "text/html": [
              "\n",
              "    <div>\n",
              "      \n",
              "      <progress value='1968' max='1968' style='width:300px; height:20px; vertical-align: middle;'></progress>\n",
              "      [1968/1968 47:04, Epoch 1/1]\n",
              "    </div>\n",
              "    <table border=\"1\" class=\"dataframe\">\n",
              "  <thead>\n",
              " <tr style=\"text-align: left;\">\n",
              "      <th>Step</th>\n",
              "      <th>Training Loss</th>\n",
              "      <th>Validation Loss</th>\n",
              "    </tr>\n",
              "  </thead>\n",
              "  <tbody>\n",
              "    <tr>\n",
              "      <td>100</td>\n",
              "      <td>1.765000</td>\n",
              "      <td>1.665100</td>\n",
              "    </tr>\n",
              "    <tr>\n",
              "      <td>200</td>\n",
              "      <td>1.622500</td>\n",
              "      <td>1.614842</td>\n",
              "    </tr>\n",
              "    <tr>\n",
              "      <td>300</td>\n",
              "      <td>1.556600</td>\n",
              "      <td>1.582053</td>\n",
              "    </tr>\n",
              "    <tr>\n",
              "      <td>400</td>\n",
              "      <td>1.592000</td>\n",
              "      <td>1.564197</td>\n",
              "    </tr>\n",
              "    <tr>\n",
              "      <td>500</td>\n",
              "      <td>1.531000</td>\n",
              "      <td>1.546769</td>\n",
              "    </tr>\n",
              "    <tr>\n",
              "      <td>600</td>\n",
              "      <td>1.482200</td>\n",
              "      <td>1.533248</td>\n",
              "    </tr>\n",
              "    <tr>\n",
              "      <td>700</td>\n",
              "      <td>1.452300</td>\n",
              "      <td>1.522163</td>\n",
              "    </tr>\n",
              "    <tr>\n",
              "      <td>800</td>\n",
              "      <td>1.449700</td>\n",
              "      <td>1.514375</td>\n",
              "    </tr>\n",
              "    <tr>\n",
              "      <td>900</td>\n",
              "      <td>1.511300</td>\n",
              "      <td>1.505385</td>\n",
              "    </tr>\n",
              "    <tr>\n",
              "      <td>1000</td>\n",
              "      <td>1.517300</td>\n",
              "      <td>1.494134</td>\n",
              "    </tr>\n",
              "    <tr>\n",
              "      <td>1100</td>\n",
              "      <td>1.483000</td>\n",
              "      <td>1.488271</td>\n",
              "    </tr>\n",
              "    <tr>\n",
              "      <td>1200</td>\n",
              "      <td>1.439900</td>\n",
              "      <td>1.481637</td>\n",
              "    </tr>\n",
              "    <tr>\n",
              "      <td>1300</td>\n",
              "      <td>1.429800</td>\n",
              "      <td>1.474267</td>\n",
              "    </tr>\n",
              "    <tr>\n",
              "      <td>1400</td>\n",
              "      <td>1.487300</td>\n",
              "      <td>1.467499</td>\n",
              "    </tr>\n",
              "    <tr>\n",
              "      <td>1500</td>\n",
              "      <td>1.474600</td>\n",
              "      <td>1.464312</td>\n",
              "    </tr>\n",
              "    <tr>\n",
              "      <td>1600</td>\n",
              "      <td>1.486700</td>\n",
              "      <td>1.459406</td>\n",
              "    </tr>\n",
              "    <tr>\n",
              "      <td>1700</td>\n",
              "      <td>1.465700</td>\n",
              "      <td>1.456303</td>\n",
              "    </tr>\n",
              "    <tr>\n",
              "      <td>1800</td>\n",
              "      <td>1.479800</td>\n",
              "      <td>1.454001</td>\n",
              "    </tr>\n",
              "    <tr>\n",
              "      <td>1900</td>\n",
              "      <td>1.446000</td>\n",
              "      <td>1.452124</td>\n",
              "    </tr>\n",
              "  </tbody>\n",
              "</table><p>"
            ]
          },
          "metadata": {}
        },
        {
          "output_type": "execute_result",
          "data": {
            "text/plain": [
              "TrainOutput(global_step=1968, training_loss=1.5120613284227324, metrics={'train_runtime': 2826.1496, 'train_samples_per_second': 1.393, 'train_steps_per_second': 0.696, 'total_flos': 1.2535934251696128e+16, 'train_loss': 1.5120613284227324, 'epoch': 1.0})"
            ]
          },
          "metadata": {},
          "execution_count": 23
        }
      ]
    },
    {
      "cell_type": "code",
      "source": [
        "trainer.evaluate()"
      ],
      "metadata": {
        "colab": {
          "base_uri": "https://localhost:8080/",
          "height": 124
        },
        "id": "Lna-gO7Xzx_D",
        "outputId": "e9c59b41-b604-4c48-cc28-4d84dd5438cd"
      },
      "execution_count": null,
      "outputs": [
        {
          "output_type": "display_data",
          "data": {
            "text/plain": [
              "<IPython.core.display.HTML object>"
            ],
            "text/html": [
              "\n",
              "    <div>\n",
              "      \n",
              "      <progress value='492' max='492' style='width:300px; height:20px; vertical-align: middle;'></progress>\n",
              "      [492/492 01:39]\n",
              "    </div>\n",
              "    "
            ]
          },
          "metadata": {}
        },
        {
          "output_type": "execute_result",
          "data": {
            "text/plain": [
              "{'eval_loss': 1.4521241188049316,\n",
              " 'eval_runtime': 99.3471,\n",
              " 'eval_samples_per_second': 9.905,\n",
              " 'eval_steps_per_second': 4.952,\n",
              " 'epoch': 1.0}"
            ]
          },
          "metadata": {},
          "execution_count": 24
        }
      ]
    },
    {
      "cell_type": "code",
      "source": [
        "wandb.finish()"
      ],
      "metadata": {
        "colab": {
          "base_uri": "https://localhost:8080/",
          "height": 757
        },
        "id": "6hhhJMIN1k1_",
        "outputId": "71692d0c-b6cb-4c04-a9df-7219fce647f7"
      },
      "execution_count": null,
      "outputs": [
        {
          "output_type": "display_data",
          "data": {
            "text/plain": [
              "<IPython.core.display.HTML object>"
            ],
            "text/html": []
          },
          "metadata": {}
        },
        {
          "output_type": "display_data",
          "data": {
            "text/plain": [
              "<IPython.core.display.HTML object>"
            ],
            "text/html": [
              "<br>    <style><br>        .wandb-row {<br>            display: flex;<br>            flex-direction: row;<br>            flex-wrap: wrap;<br>            justify-content: flex-start;<br>            width: 100%;<br>        }<br>        .wandb-col {<br>            display: flex;<br>            flex-direction: column;<br>            flex-basis: 100%;<br>            flex: 1;<br>            padding: 10px;<br>        }<br>    </style><br><div class=\"wandb-row\"><div class=\"wandb-col\"><h3>Run history:</h3><br/><table class=\"wandb\"><tr><td>eval/loss</td><td>█▆▅▅▄▄▃▃▃▂▂▂▂▂▁▁▁▁▁▁</td></tr><tr><td>eval/runtime</td><td>█▁▁▁▁▁▂▁▁▁▁▁▁▁▁▁▁▁▁▁</td></tr><tr><td>eval/samples_per_second</td><td>▁█████▇█████████████</td></tr><tr><td>eval/steps_per_second</td><td>▁█████▇█████████████</td></tr><tr><td>train/epoch</td><td>▁▁▁▁▂▂▂▂▂▂▃▃▃▃▄▄▄▄▄▄▅▅▅▅▅▆▆▆▆▆▇▇▇▇▇█████</td></tr><tr><td>train/global_step</td><td>▁▁▁▂▂▂▂▂▂▂▃▃▃▃▃▃▄▄▄▄▄▄▅▅▅▅▆▆▆▆▆▆▆▇▇▇▇███</td></tr><tr><td>train/grad_norm</td><td>▄▄▃▃▂▃▁▂▂▂▃▃▂▂▂▂▃▂▃▅▃▃▄▂▅▃▃▃▂▄▅█▃▄▃▃▅▃▃</td></tr><tr><td>train/learning_rate</td><td>▄████▇▇▇▇▇▆▆▆▆▆▅▅▅▅▅▄▄▄▄▄▃▃▃▃▃▃▂▂▂▂▂▁▁▁</td></tr><tr><td>train/loss</td><td>█▅▄▄▃▃▃▃▃▃▃▂▂▂▂▂▂▂▂▂▂▂▃▂▂▂▁▂▁▂▁▂▂▂▁▂▁▂▁</td></tr></table><br/></div><div class=\"wandb-col\"><h3>Run summary:</h3><br/><table class=\"wandb\"><tr><td>eval/loss</td><td>1.45212</td></tr><tr><td>eval/runtime</td><td>99.3471</td></tr><tr><td>eval/samples_per_second</td><td>9.905</td></tr><tr><td>eval/steps_per_second</td><td>4.952</td></tr><tr><td>total_flos</td><td>1.2535934251696128e+16</td></tr><tr><td>train/epoch</td><td>1</td></tr><tr><td>train/global_step</td><td>1968</td></tr><tr><td>train/grad_norm</td><td>0.86421</td></tr><tr><td>train/learning_rate</td><td>0.0</td></tr><tr><td>train/loss</td><td>1.4233</td></tr><tr><td>train_loss</td><td>1.51206</td></tr><tr><td>train_runtime</td><td>2826.1496</td></tr><tr><td>train_samples_per_second</td><td>1.393</td></tr><tr><td>train_steps_per_second</td><td>0.696</td></tr></table><br/></div></div>"
            ]
          },
          "metadata": {}
        },
        {
          "output_type": "display_data",
          "data": {
            "text/plain": [
              "<IPython.core.display.HTML object>"
            ],
            "text/html": [
              " View run <strong style=\"color:#cdcd00\">fine-tuning-llm</strong> at: <a href='https://wandb.ai/khachblb06-polytechnic-of-a/classification-with-llm/runs/mviachxn' target=\"_blank\">https://wandb.ai/khachblb06-polytechnic-of-a/classification-with-llm/runs/mviachxn</a><br> View project at: <a href='https://wandb.ai/khachblb06-polytechnic-of-a/classification-with-llm' target=\"_blank\">https://wandb.ai/khachblb06-polytechnic-of-a/classification-with-llm</a><br>Synced 5 W&B file(s), 0 media file(s), 0 artifact file(s) and 0 other file(s)"
            ]
          },
          "metadata": {}
        },
        {
          "output_type": "display_data",
          "data": {
            "text/plain": [
              "<IPython.core.display.HTML object>"
            ],
            "text/html": [
              "Find logs at: <code>./wandb/run-20250805_155123-mviachxn/logs</code>"
            ]
          },
          "metadata": {}
        }
      ]
    },
    {
      "cell_type": "code",
      "source": [
        "model.save_pretrained(\"./fine_tuned_medical_lora\")\n",
        "tokenizer.save_pretrained(\"./fine_tuned_medical_lora\")"
      ],
      "metadata": {
        "colab": {
          "base_uri": "https://localhost:8080/"
        },
        "id": "zZEVSr4g5j7T",
        "outputId": "5f7d2980-d8a0-427e-e69a-20ce3aee18b1"
      },
      "execution_count": null,
      "outputs": [
        {
          "output_type": "execute_result",
          "data": {
            "text/plain": [
              "('./fine_tuned_medical_lora/tokenizer_config.json',\n",
              " './fine_tuned_medical_lora/special_tokens_map.json',\n",
              " './fine_tuned_medical_lora/chat_template.jinja',\n",
              " './fine_tuned_medical_lora/tokenizer.model',\n",
              " './fine_tuned_medical_lora/added_tokens.json',\n",
              " './fine_tuned_medical_lora/tokenizer.json')"
            ]
          },
          "metadata": {},
          "execution_count": 26
        }
      ]
    }
  ]
}